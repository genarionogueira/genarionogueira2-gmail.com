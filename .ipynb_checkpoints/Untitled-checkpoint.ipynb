{
 "cells": [
  {
   "cell_type": "code",
   "execution_count": 16,
   "metadata": {},
   "outputs": [],
   "source": [
    "import pandas as pd\n",
    "import yaml\n",
    "import datetime as dt"
   ]
  },
  {
   "cell_type": "code",
   "execution_count": 17,
   "metadata": {},
   "outputs": [],
   "source": [
    "mov_df = pd.read_excel('files/ETRADE_mov.xlsx')"
   ]
  },
  {
   "cell_type": "code",
   "execution_count": 39,
   "metadata": {},
   "outputs": [],
   "source": [
    "mov_file = {}\n",
    "for mov in mov_df.index:\n",
    "    one_line = mov_df.loc[mov]\n",
    "    \n",
    "    one_mov_dict = {}\n",
    "    for idx in one_line.index:                 \n",
    "        if isinstance(one_line[idx],dt.datetime):\n",
    "            date = one_line[idx]\n",
    "            one_mov_dict[idx.replace(\" \",\"_\").lower()] = date.strftime(\"%Y-%m-%d\")\n",
    "        elif str(one_line[idx]).strip().isnumeric() or isinstance(one_line[idx],float) :\n",
    "            one_mov_dict[idx.replace(\" \",\"_\").lower()] = float(one_line[idx])        \n",
    "        else:\n",
    "            one_mov_dict[idx.replace(\" \",\"_\").lower()] = str(one_line[idx])        \n",
    "    mov_file[one_mov_dict['date']] = one_mov_dict    \n",
    "    \n",
    "yaml.dump(mov_file,open('files/movements/2020.yaml','w'))    "
   ]
  },
  {
   "cell_type": "code",
   "execution_count": 40,
   "metadata": {},
   "outputs": [
    {
     "name": "stdout",
     "output_type": "stream",
     "text": [
      "'2020-03-03':\n",
      "  date: '2020-03-03'\n",
      "  order: 21.0\n",
      "  order_type: Buy\n",
      "  price: 74.53\n",
      "  price_type: Mkt\n",
      "  price_type.1: Mkt\n",
      "  quantity: 27.0\n",
      "  symbol: GILD\n",
      "  term: Day\n",
      "  type: Stock/ETF\n",
      "'2020-03-04':\n",
      "  date: '2020-03-04'\n",
      "  order: 22.0\n",
      "  order_type: Buy\n",
      "  price: 1366.64\n",
      "  price_type: Mkt\n",
      "  price_type.1: Mkt\n",
      "  quantity: 3.0\n",
      "  symbol: GOOGL\n",
      "  term: Day\n",
      "  type: Stock/ETF\n",
      "'2020-03-05':\n",
      "  date: '2020-03-05'\n",
      "  order: 23.0\n",
      "  order_type: Buy\n",
      "  price: 1934.5\n",
      "  price_type: Mkt\n",
      "  price_type.1: Mkt\n",
      "  quantity: 2.0\n",
      "  symbol: AMZN\n",
      "  term: Day\n",
      "  type: Stock/ETF\n",
      "'2020-03-06':\n",
      "  date: '2020-03-06'\n",
      "  order: 26.0\n",
      "  order_type: Buy\n",
      "  price: 29.0802\n",
      "  price_type: Mkt\n",
      "  price_type.1: Mkt\n",
      "  quantity: 68.0\n",
      "  symbol: MRNA\n",
      "  term: Day\n",
      "  type: Stock/ETF\n",
      "'2020-03-16':\n",
      "  date: '2020-03-16'\n",
      "  order: 27.0\n",
      "  order_type: Buy\n",
      "  price: 21.998\n",
      "  price_type: Mkt\n",
      "  price_type.1: Mkt\n",
      "  quantity: 22.0\n",
      "  symbol: PTON\n",
      "  term: Day\n",
      "  type: Stock/ETF\n",
      "'2020-03-30':\n",
      "  date: '2020-03-30'\n",
      "  order: 30.0\n",
      "  order_type: Buy\n",
      "  price: 255.55\n",
      "  price_type: Mkt\n",
      "  price_type.1: Mkt\n",
      "  quantity: 3.0\n",
      "  symbol: AAPL\n",
      "  term: Day\n",
      "  type: Stock/ETF\n",
      "\n"
     ]
    }
   ],
   "source": [
    "print(yaml.dump(mov_file))"
   ]
  },
  {
   "cell_type": "code",
   "execution_count": 13,
   "metadata": {},
   "outputs": [
    {
     "data": {
      "text/plain": [
       "Index(['Date', 'Order', 'Type', 'Order type', 'Quantity', 'Symbol',\n",
       "       'Price type', 'Term', 'Price', 'Price.1'],\n",
       "      dtype='object')"
      ]
     },
     "execution_count": 13,
     "metadata": {},
     "output_type": "execute_result"
    }
   ],
   "source": [
    "mov_df.iloc[0].index"
   ]
  },
  {
   "cell_type": "code",
   "execution_count": null,
   "metadata": {},
   "outputs": [],
   "source": []
  }
 ],
 "metadata": {
  "kernelspec": {
   "display_name": "Python 3",
   "language": "python",
   "name": "python3"
  },
  "language_info": {
   "codemirror_mode": {
    "name": "ipython",
    "version": 3
   },
   "file_extension": ".py",
   "mimetype": "text/x-python",
   "name": "python",
   "nbconvert_exporter": "python",
   "pygments_lexer": "ipython3",
   "version": "3.7.4"
  }
 },
 "nbformat": 4,
 "nbformat_minor": 4
}
