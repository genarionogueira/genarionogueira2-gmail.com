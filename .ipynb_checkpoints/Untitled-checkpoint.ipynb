{
 "cells": [
  {
   "cell_type": "code",
   "execution_count": 30,
   "metadata": {},
   "outputs": [],
   "source": [
    "import pandas as pd\n",
    "import yaml\n",
    "import json"
   ]
  },
  {
   "cell_type": "code",
   "execution_count": 23,
   "metadata": {},
   "outputs": [],
   "source": [
    "mov_df = pd.read_excel('files/ETRADE_mov.xlsx')"
   ]
  },
  {
   "cell_type": "code",
   "execution_count": 34,
   "metadata": {},
   "outputs": [
    {
     "data": {
      "text/plain": [
       "[{'date': Timestamp('2020-03-30 00:00:00'),\n",
       "  'order': 30,\n",
       "  'type': 'Stock/ETF',\n",
       "  'order_type': 'Buy',\n",
       "  'quantity': 3,\n",
       "  'symbol': 'AAPL',\n",
       "  'price_type': 'Mkt',\n",
       "  'term': 'Day',\n",
       "  'price_type.1': 'Mkt',\n",
       "  'price': 255.55},\n",
       " {'date': Timestamp('2020-03-16 00:00:00'),\n",
       "  'order': 27,\n",
       "  'type': 'Stock/ETF',\n",
       "  'order_type': 'Buy',\n",
       "  'quantity': 22,\n",
       "  'symbol': 'PTON',\n",
       "  'price_type': 'Mkt',\n",
       "  'term': 'Day',\n",
       "  'price_type.1': 'Mkt',\n",
       "  'price': 21.998},\n",
       " {'date': Timestamp('2020-03-06 00:00:00'),\n",
       "  'order': 26,\n",
       "  'type': 'Stock/ETF',\n",
       "  'order_type': 'Buy',\n",
       "  'quantity': 68,\n",
       "  'symbol': 'MRNA',\n",
       "  'price_type': 'Mkt',\n",
       "  'term': 'Day',\n",
       "  'price_type.1': 'Mkt',\n",
       "  'price': 29.0802},\n",
       " {'date': Timestamp('2020-03-05 00:00:00'),\n",
       "  'order': 25,\n",
       "  'type': 'Stock/ETF',\n",
       "  'order_type': 'Buy',\n",
       "  'quantity': 2,\n",
       "  'symbol': 'TSLA',\n",
       "  'price_type': 'Mkt',\n",
       "  'term': 'Day',\n",
       "  'price_type.1': 'Mkt',\n",
       "  'price': 729.885},\n",
       " {'date': Timestamp('2020-03-05 00:00:00'),\n",
       "  'order': 24,\n",
       "  'type': 'Stock/ETF',\n",
       "  'order_type': 'Buy',\n",
       "  'quantity': 6,\n",
       "  'symbol': 'AAPL',\n",
       "  'price_type': 'Mkt',\n",
       "  'term': 'Day',\n",
       "  'price_type.1': 'Mkt',\n",
       "  'price': 296.1725},\n",
       " {'date': Timestamp('2020-03-05 00:00:00'),\n",
       "  'order': 23,\n",
       "  'type': 'Stock/ETF',\n",
       "  'order_type': 'Buy',\n",
       "  'quantity': 2,\n",
       "  'symbol': 'AMZN',\n",
       "  'price_type': 'Mkt',\n",
       "  'term': 'Day',\n",
       "  'price_type.1': 'Mkt',\n",
       "  'price': 1934.5},\n",
       " {'date': Timestamp('2020-03-04 00:00:00'),\n",
       "  'order': 22,\n",
       "  'type': 'Stock/ETF',\n",
       "  'order_type': 'Buy',\n",
       "  'quantity': 3,\n",
       "  'symbol': 'GOOGL',\n",
       "  'price_type': 'Mkt',\n",
       "  'term': 'Day',\n",
       "  'price_type.1': 'Mkt',\n",
       "  'price': 1366.64},\n",
       " {'date': Timestamp('2020-03-03 00:00:00'),\n",
       "  'order': 21,\n",
       "  'type': 'Stock/ETF',\n",
       "  'order_type': 'Buy',\n",
       "  'quantity': 27,\n",
       "  'symbol': 'GILD',\n",
       "  'price_type': 'Mkt',\n",
       "  'term': 'Day',\n",
       "  'price_type.1': 'Mkt',\n",
       "  'price': 74.53}]"
      ]
     },
     "execution_count": 34,
     "metadata": {},
     "output_type": "execute_result"
    }
   ],
   "source": [
    "mov_file = []\n",
    "for mov in mov_df.index:\n",
    "    one_line = mov_df.loc[mov]\n",
    "    mov_file.append(\n",
    "        {prop.replace(\" \",\"_\").lower():one_line[prop] for prop in one_line.index}\n",
    "    )   \n",
    "mov_file"
   ]
  },
  {
   "cell_type": "code",
   "execution_count": 8,
   "metadata": {},
   "outputs": [
    {
     "data": {
      "text/plain": [
       "Timestamp('2020-03-30 00:00:00')"
      ]
     },
     "execution_count": 8,
     "metadata": {},
     "output_type": "execute_result"
    }
   ],
   "source": []
  },
  {
   "cell_type": "code",
   "execution_count": 13,
   "metadata": {},
   "outputs": [
    {
     "data": {
      "text/plain": [
       "Index(['Date', 'Order', 'Type', 'Order type', 'Quantity', 'Symbol',\n",
       "       'Price type', 'Term', 'Price', 'Price.1'],\n",
       "      dtype='object')"
      ]
     },
     "execution_count": 13,
     "metadata": {},
     "output_type": "execute_result"
    }
   ],
   "source": [
    "mov_df.iloc[0].index"
   ]
  },
  {
   "cell_type": "code",
   "execution_count": null,
   "metadata": {},
   "outputs": [],
   "source": []
  }
 ],
 "metadata": {
  "kernelspec": {
   "display_name": "Python 3",
   "language": "python",
   "name": "python3"
  },
  "language_info": {
   "codemirror_mode": {
    "name": "ipython",
    "version": 3
   },
   "file_extension": ".py",
   "mimetype": "text/x-python",
   "name": "python",
   "nbconvert_exporter": "python",
   "pygments_lexer": "ipython3",
   "version": "3.7.4"
  }
 },
 "nbformat": 4,
 "nbformat_minor": 4
}
